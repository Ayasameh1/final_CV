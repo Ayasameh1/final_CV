{
 "cells": [
  {
   "cell_type": "code",
   "execution_count": 1,
   "metadata": {},
   "outputs": [],
   "source": [
    "import pandas as pd\n",
    "import numpy as np \n",
    "import cv2\n",
    "from sklearn.svm import SVC\n",
    "from sklearn.model_selection import train_test_split, GridSearchCV\n",
    "import glob\n",
    "import matplotlib.pyplot as plt"
   ]
  },
  {
   "cell_type": "code",
   "execution_count": 2,
   "metadata": {},
   "outputs": [],
   "source": [
    "data_dict = {\n",
    "    \"alaa\" : \"team_images/Alaa/*\", \n",
    "    \"aya amr\" : \"team_images/Aya Amr/*\",\n",
    "    \"aya sameh\" : \"team_images/Aya Sameh/*\",\n",
    "    \"ehab\" : \"team_images/Ehab/*\",\n",
    "    \"salman\" : \"team_images/Salman/*\"\n",
    "}"
   ]
  },
  {
   "cell_type": "code",
   "execution_count": 3,
   "metadata": {},
   "outputs": [],
   "source": [
    "def face_detection(img):\n",
    "    face_classifier = cv2.CascadeClassifier(\n",
    "    cv2.data.haarcascades + \"haarcascade_frontalface_default.xml\"\n",
    "    )\n",
    "    # The detectMultiScale() method is used to identify faces of different sizes in the input image.\n",
    "    face = face_classifier.detectMultiScale(img, scaleFactor=1.1, minNeighbors=5, minSize=(200, 200),flags=cv2.CASCADE_SCALE_IMAGE)\n",
    "# finally, the minSize parameter sets the minimum size of the object to be detected.\n",
    "# The model will ignore faces that are smaller than the minimum size specified.\n",
    "    return face"
   ]
  },
  {
   "cell_type": "code",
   "execution_count": 4,
   "metadata": {},
   "outputs": [],
   "source": [
    "def extract_features(pixel_values,folder_path, label):\n",
    "    file_names = glob.glob(folder_path)\n",
    "    for file in file_names:\n",
    "        gray_img = cv2.imread(file,0)\n",
    "        face = face_detection(gray_img)\n",
    "        for (x, y, w, h) in face:\n",
    "            face_img = gray_img[y:y+h, x:x+w]\n",
    "            face_img = cv2.resize(face_img, (100,100))\n",
    "            gray_pixels = face_img.flatten().tolist()\n",
    "            gray_pixels.append(label)\n",
    "        \n",
    "        pixel_values.append(gray_pixels)\n",
    "        "
   ]
  },
  {
   "cell_type": "code",
   "execution_count": 6,
   "metadata": {},
   "outputs": [],
   "source": [
    "pixel_values = []\n",
    "for key in data_dict.keys():    \n",
    "    extract_features(pixel_values, data_dict[key], key)\n",
    "\n",
    "df = pd.DataFrame(pixel_values)"
   ]
  },
  {
   "cell_type": "code",
   "execution_count": 7,
   "metadata": {},
   "outputs": [],
   "source": [
    "df.rename(columns={10000:\"label\"}, inplace=True)"
   ]
  },
  {
   "cell_type": "code",
   "execution_count": 8,
   "metadata": {},
   "outputs": [
    {
     "data": {
      "text/html": [
       "<div>\n",
       "<style scoped>\n",
       "    .dataframe tbody tr th:only-of-type {\n",
       "        vertical-align: middle;\n",
       "    }\n",
       "\n",
       "    .dataframe tbody tr th {\n",
       "        vertical-align: top;\n",
       "    }\n",
       "\n",
       "    .dataframe thead th {\n",
       "        text-align: right;\n",
       "    }\n",
       "</style>\n",
       "<table border=\"1\" class=\"dataframe\">\n",
       "  <thead>\n",
       "    <tr style=\"text-align: right;\">\n",
       "      <th></th>\n",
       "      <th>0</th>\n",
       "      <th>1</th>\n",
       "      <th>2</th>\n",
       "      <th>3</th>\n",
       "      <th>4</th>\n",
       "      <th>5</th>\n",
       "      <th>6</th>\n",
       "      <th>7</th>\n",
       "      <th>8</th>\n",
       "      <th>9</th>\n",
       "      <th>...</th>\n",
       "      <th>9991</th>\n",
       "      <th>9992</th>\n",
       "      <th>9993</th>\n",
       "      <th>9994</th>\n",
       "      <th>9995</th>\n",
       "      <th>9996</th>\n",
       "      <th>9997</th>\n",
       "      <th>9998</th>\n",
       "      <th>9999</th>\n",
       "      <th>label</th>\n",
       "    </tr>\n",
       "  </thead>\n",
       "  <tbody>\n",
       "    <tr>\n",
       "      <th>0</th>\n",
       "      <td>158</td>\n",
       "      <td>214</td>\n",
       "      <td>212</td>\n",
       "      <td>221</td>\n",
       "      <td>213</td>\n",
       "      <td>217</td>\n",
       "      <td>209</td>\n",
       "      <td>199</td>\n",
       "      <td>206</td>\n",
       "      <td>202</td>\n",
       "      <td>...</td>\n",
       "      <td>153</td>\n",
       "      <td>158</td>\n",
       "      <td>153</td>\n",
       "      <td>160</td>\n",
       "      <td>181</td>\n",
       "      <td>190</td>\n",
       "      <td>187</td>\n",
       "      <td>178</td>\n",
       "      <td>185</td>\n",
       "      <td>alaa</td>\n",
       "    </tr>\n",
       "    <tr>\n",
       "      <th>1</th>\n",
       "      <td>112</td>\n",
       "      <td>185</td>\n",
       "      <td>150</td>\n",
       "      <td>206</td>\n",
       "      <td>212</td>\n",
       "      <td>218</td>\n",
       "      <td>217</td>\n",
       "      <td>213</td>\n",
       "      <td>213</td>\n",
       "      <td>201</td>\n",
       "      <td>...</td>\n",
       "      <td>119</td>\n",
       "      <td>116</td>\n",
       "      <td>139</td>\n",
       "      <td>162</td>\n",
       "      <td>162</td>\n",
       "      <td>169</td>\n",
       "      <td>168</td>\n",
       "      <td>170</td>\n",
       "      <td>176</td>\n",
       "      <td>alaa</td>\n",
       "    </tr>\n",
       "    <tr>\n",
       "      <th>2</th>\n",
       "      <td>207</td>\n",
       "      <td>218</td>\n",
       "      <td>221</td>\n",
       "      <td>223</td>\n",
       "      <td>218</td>\n",
       "      <td>210</td>\n",
       "      <td>206</td>\n",
       "      <td>206</td>\n",
       "      <td>200</td>\n",
       "      <td>192</td>\n",
       "      <td>...</td>\n",
       "      <td>160</td>\n",
       "      <td>178</td>\n",
       "      <td>184</td>\n",
       "      <td>183</td>\n",
       "      <td>190</td>\n",
       "      <td>161</td>\n",
       "      <td>136</td>\n",
       "      <td>127</td>\n",
       "      <td>74</td>\n",
       "      <td>alaa</td>\n",
       "    </tr>\n",
       "    <tr>\n",
       "      <th>3</th>\n",
       "      <td>157</td>\n",
       "      <td>221</td>\n",
       "      <td>213</td>\n",
       "      <td>222</td>\n",
       "      <td>216</td>\n",
       "      <td>215</td>\n",
       "      <td>205</td>\n",
       "      <td>200</td>\n",
       "      <td>201</td>\n",
       "      <td>201</td>\n",
       "      <td>...</td>\n",
       "      <td>154</td>\n",
       "      <td>159</td>\n",
       "      <td>173</td>\n",
       "      <td>193</td>\n",
       "      <td>192</td>\n",
       "      <td>182</td>\n",
       "      <td>183</td>\n",
       "      <td>177</td>\n",
       "      <td>50</td>\n",
       "      <td>alaa</td>\n",
       "    </tr>\n",
       "    <tr>\n",
       "      <th>4</th>\n",
       "      <td>216</td>\n",
       "      <td>217</td>\n",
       "      <td>219</td>\n",
       "      <td>212</td>\n",
       "      <td>204</td>\n",
       "      <td>202</td>\n",
       "      <td>208</td>\n",
       "      <td>213</td>\n",
       "      <td>187</td>\n",
       "      <td>187</td>\n",
       "      <td>...</td>\n",
       "      <td>149</td>\n",
       "      <td>164</td>\n",
       "      <td>172</td>\n",
       "      <td>178</td>\n",
       "      <td>182</td>\n",
       "      <td>190</td>\n",
       "      <td>182</td>\n",
       "      <td>131</td>\n",
       "      <td>115</td>\n",
       "      <td>alaa</td>\n",
       "    </tr>\n",
       "  </tbody>\n",
       "</table>\n",
       "<p>5 rows × 10001 columns</p>\n",
       "</div>"
      ],
      "text/plain": [
       "     0    1    2    3    4    5    6    7    8    9  ...  9991  9992  9993  \\\n",
       "0  158  214  212  221  213  217  209  199  206  202  ...   153   158   153   \n",
       "1  112  185  150  206  212  218  217  213  213  201  ...   119   116   139   \n",
       "2  207  218  221  223  218  210  206  206  200  192  ...   160   178   184   \n",
       "3  157  221  213  222  216  215  205  200  201  201  ...   154   159   173   \n",
       "4  216  217  219  212  204  202  208  213  187  187  ...   149   164   172   \n",
       "\n",
       "   9994  9995  9996  9997  9998  9999  label  \n",
       "0   160   181   190   187   178   185   alaa  \n",
       "1   162   162   169   168   170   176   alaa  \n",
       "2   183   190   161   136   127    74   alaa  \n",
       "3   193   192   182   183   177    50   alaa  \n",
       "4   178   182   190   182   131   115   alaa  \n",
       "\n",
       "[5 rows x 10001 columns]"
      ]
     },
     "execution_count": 8,
     "metadata": {},
     "output_type": "execute_result"
    }
   ],
   "source": [
    "df.head()"
   ]
  },
  {
   "cell_type": "code",
   "execution_count": 10,
   "metadata": {},
   "outputs": [],
   "source": [
    "def pca(data, n_components):\n",
    "  \"\"\"\n",
    "  Performs principal component analysis on the data and returns the eigenvectors, eigenvalues, and transformed data.\n",
    "\n",
    "  Args:\n",
    "    data: The data to be analyzed.\n",
    "    n_components: The number of principal components to return.\n",
    "\n",
    "  Returns:\n",
    "    eigenvectors: The eigenvectors of the principal components.\n",
    "    eigenvalues: The eigenvalues of the principal components.\n",
    "    transformed_data: The data transformed into the principal component space.\n",
    "  \"\"\"\n",
    "  # Check if the data is a NumPy array or Pandas DataFrame.\n",
    "  if isinstance(data, np.ndarray):\n",
    "    pass\n",
    "  elif isinstance(data, pd.DataFrame):\n",
    "    data = data.to_numpy()\n",
    "  \n",
    "  # Center the data.\n",
    "  mean = np.mean(data, axis=0)\n",
    "  std = np.std(data, axis=0)\n",
    "  data = (data - mean) / std\n",
    "\n",
    "  # Compute the covariance matrix.\n",
    "  covariance_matrix = np.cov(data.T)\n",
    "\n",
    "  # Compute the eigenvalues and eigenvectors of the covariance matrix.\n",
    "  eigenvalues, eigenvectors = np.linalg.eig(covariance_matrix)\n",
    "\n",
    "  # Sort the eigenvalues and eigenvectors in descending order by eigenvalue.\n",
    "  eigenvalues, eigenvectors = eigenvalues[::-1], eigenvectors[:, ::-1]\n",
    "\n",
    "  # Choose the first `n_components` eigenvectors and eigenvalues.\n",
    "  eigenvectors = eigenvectors[:, :n_components]\n",
    "  eigenvalues = eigenvalues[:n_components]\n",
    "\n",
    "  # Transform the data into the principal component space.\n",
    "  transformed_data = np.dot(data, eigenvectors)\n",
    "\n",
    "  return eigenvectors, eigenvalues, transformed_data\n"
   ]
  },
  {
   "cell_type": "code",
   "execution_count": 12,
   "metadata": {},
   "outputs": [],
   "source": [
    "def perform_pca_faster(faces):\n",
    "    # Convert the list of face images into a 2D array\n",
    "    X = np.array(faces).reshape(len((faces)), -1).astype(np.float64)\n",
    "    # Compute the mean face and subtract it from each face image\n",
    "    mean_face = np.mean(X, axis=0)\n",
    "    X -= mean_face\n",
    "    # Compute the SVD of the centered face images\n",
    "    U, s, Vt = np.linalg.svd(X, full_matrices=False)\n",
    "    print(Vt.shape)\n",
    "\n",
    "    # Project the face images onto the lower-dimensional space\n",
    "    X_pca = np.dot(X, Vt.T)\n",
    "\n",
    "    return mean_face, Vt, X_pca\n"
   ]
  },
  {
   "cell_type": "code",
   "execution_count": 13,
   "metadata": {},
   "outputs": [
    {
     "name": "stdout",
     "output_type": "stream",
     "text": [
      "(203, 10000)\n"
     ]
    }
   ],
   "source": [
    "mean_face, eigvecs, X_pca = perform_pca_faster(df.drop(columns=\"label\").to_numpy())"
   ]
  },
  {
   "cell_type": "code",
   "execution_count": 14,
   "metadata": {},
   "outputs": [
    {
     "data": {
      "text/html": [
       "<div>\n",
       "<style scoped>\n",
       "    .dataframe tbody tr th:only-of-type {\n",
       "        vertical-align: middle;\n",
       "    }\n",
       "\n",
       "    .dataframe tbody tr th {\n",
       "        vertical-align: top;\n",
       "    }\n",
       "\n",
       "    .dataframe thead th {\n",
       "        text-align: right;\n",
       "    }\n",
       "</style>\n",
       "<table border=\"1\" class=\"dataframe\">\n",
       "  <thead>\n",
       "    <tr style=\"text-align: right;\">\n",
       "      <th></th>\n",
       "      <th>0</th>\n",
       "      <th>1</th>\n",
       "      <th>2</th>\n",
       "      <th>3</th>\n",
       "      <th>4</th>\n",
       "      <th>5</th>\n",
       "      <th>6</th>\n",
       "      <th>7</th>\n",
       "      <th>8</th>\n",
       "      <th>9</th>\n",
       "      <th>...</th>\n",
       "      <th>193</th>\n",
       "      <th>194</th>\n",
       "      <th>195</th>\n",
       "      <th>196</th>\n",
       "      <th>197</th>\n",
       "      <th>198</th>\n",
       "      <th>199</th>\n",
       "      <th>200</th>\n",
       "      <th>201</th>\n",
       "      <th>202</th>\n",
       "    </tr>\n",
       "  </thead>\n",
       "  <tbody>\n",
       "    <tr>\n",
       "      <th>0</th>\n",
       "      <td>-1079.005018</td>\n",
       "      <td>-1160.068180</td>\n",
       "      <td>-228.263220</td>\n",
       "      <td>-152.290974</td>\n",
       "      <td>652.874143</td>\n",
       "      <td>-1530.745189</td>\n",
       "      <td>80.254019</td>\n",
       "      <td>-539.234999</td>\n",
       "      <td>767.995524</td>\n",
       "      <td>-1126.580191</td>\n",
       "      <td>...</td>\n",
       "      <td>-28.470225</td>\n",
       "      <td>-19.171415</td>\n",
       "      <td>98.578230</td>\n",
       "      <td>25.232854</td>\n",
       "      <td>-68.278970</td>\n",
       "      <td>7.756366</td>\n",
       "      <td>-64.374385</td>\n",
       "      <td>23.968023</td>\n",
       "      <td>-27.475331</td>\n",
       "      <td>-6.641354e-13</td>\n",
       "    </tr>\n",
       "    <tr>\n",
       "      <th>1</th>\n",
       "      <td>-667.368517</td>\n",
       "      <td>-1065.912221</td>\n",
       "      <td>-728.330485</td>\n",
       "      <td>-220.571159</td>\n",
       "      <td>559.315951</td>\n",
       "      <td>-1146.907258</td>\n",
       "      <td>-222.137097</td>\n",
       "      <td>-492.322627</td>\n",
       "      <td>965.290752</td>\n",
       "      <td>-839.536423</td>\n",
       "      <td>...</td>\n",
       "      <td>-43.197661</td>\n",
       "      <td>-11.702443</td>\n",
       "      <td>35.918082</td>\n",
       "      <td>-57.332629</td>\n",
       "      <td>19.245499</td>\n",
       "      <td>33.810894</td>\n",
       "      <td>10.547491</td>\n",
       "      <td>24.024735</td>\n",
       "      <td>5.045804</td>\n",
       "      <td>-7.374101e-13</td>\n",
       "    </tr>\n",
       "    <tr>\n",
       "      <th>2</th>\n",
       "      <td>-1140.382039</td>\n",
       "      <td>-988.883604</td>\n",
       "      <td>-260.545236</td>\n",
       "      <td>23.714247</td>\n",
       "      <td>1084.913146</td>\n",
       "      <td>-1358.933458</td>\n",
       "      <td>-177.093379</td>\n",
       "      <td>-442.688437</td>\n",
       "      <td>898.448831</td>\n",
       "      <td>-1111.218351</td>\n",
       "      <td>...</td>\n",
       "      <td>27.382407</td>\n",
       "      <td>29.633335</td>\n",
       "      <td>-2.116386</td>\n",
       "      <td>41.172149</td>\n",
       "      <td>9.795452</td>\n",
       "      <td>4.810315</td>\n",
       "      <td>-5.921397</td>\n",
       "      <td>20.760665</td>\n",
       "      <td>-26.310669</td>\n",
       "      <td>-3.654854e-13</td>\n",
       "    </tr>\n",
       "    <tr>\n",
       "      <th>3</th>\n",
       "      <td>-1083.248271</td>\n",
       "      <td>-1151.934214</td>\n",
       "      <td>-392.075634</td>\n",
       "      <td>-242.292506</td>\n",
       "      <td>704.136444</td>\n",
       "      <td>-1534.756423</td>\n",
       "      <td>90.674062</td>\n",
       "      <td>-466.001341</td>\n",
       "      <td>959.455628</td>\n",
       "      <td>-1182.248124</td>\n",
       "      <td>...</td>\n",
       "      <td>7.363436</td>\n",
       "      <td>-9.226371</td>\n",
       "      <td>-19.070346</td>\n",
       "      <td>40.732949</td>\n",
       "      <td>25.140587</td>\n",
       "      <td>-15.535787</td>\n",
       "      <td>0.622612</td>\n",
       "      <td>-9.288745</td>\n",
       "      <td>11.965185</td>\n",
       "      <td>-7.200907e-13</td>\n",
       "    </tr>\n",
       "    <tr>\n",
       "      <th>4</th>\n",
       "      <td>-998.653723</td>\n",
       "      <td>-902.265956</td>\n",
       "      <td>-292.921373</td>\n",
       "      <td>-18.244625</td>\n",
       "      <td>964.106481</td>\n",
       "      <td>-1308.144216</td>\n",
       "      <td>-303.271326</td>\n",
       "      <td>-587.713286</td>\n",
       "      <td>893.620399</td>\n",
       "      <td>-1141.737935</td>\n",
       "      <td>...</td>\n",
       "      <td>-20.821888</td>\n",
       "      <td>36.386451</td>\n",
       "      <td>-18.106359</td>\n",
       "      <td>-49.968298</td>\n",
       "      <td>34.519446</td>\n",
       "      <td>-11.599198</td>\n",
       "      <td>25.777199</td>\n",
       "      <td>-30.951134</td>\n",
       "      <td>56.322310</td>\n",
       "      <td>-8.336110e-13</td>\n",
       "    </tr>\n",
       "  </tbody>\n",
       "</table>\n",
       "<p>5 rows × 203 columns</p>\n",
       "</div>"
      ],
      "text/plain": [
       "           0            1           2           3            4            5    \\\n",
       "0 -1079.005018 -1160.068180 -228.263220 -152.290974   652.874143 -1530.745189   \n",
       "1  -667.368517 -1065.912221 -728.330485 -220.571159   559.315951 -1146.907258   \n",
       "2 -1140.382039  -988.883604 -260.545236   23.714247  1084.913146 -1358.933458   \n",
       "3 -1083.248271 -1151.934214 -392.075634 -242.292506   704.136444 -1534.756423   \n",
       "4  -998.653723  -902.265956 -292.921373  -18.244625   964.106481 -1308.144216   \n",
       "\n",
       "          6           7           8            9    ...        193        194  \\\n",
       "0   80.254019 -539.234999  767.995524 -1126.580191  ... -28.470225 -19.171415   \n",
       "1 -222.137097 -492.322627  965.290752  -839.536423  ... -43.197661 -11.702443   \n",
       "2 -177.093379 -442.688437  898.448831 -1111.218351  ...  27.382407  29.633335   \n",
       "3   90.674062 -466.001341  959.455628 -1182.248124  ...   7.363436  -9.226371   \n",
       "4 -303.271326 -587.713286  893.620399 -1141.737935  ... -20.821888  36.386451   \n",
       "\n",
       "         195        196        197        198        199        200  \\\n",
       "0  98.578230  25.232854 -68.278970   7.756366 -64.374385  23.968023   \n",
       "1  35.918082 -57.332629  19.245499  33.810894  10.547491  24.024735   \n",
       "2  -2.116386  41.172149   9.795452   4.810315  -5.921397  20.760665   \n",
       "3 -19.070346  40.732949  25.140587 -15.535787   0.622612  -9.288745   \n",
       "4 -18.106359 -49.968298  34.519446 -11.599198  25.777199 -30.951134   \n",
       "\n",
       "         201           202  \n",
       "0 -27.475331 -6.641354e-13  \n",
       "1   5.045804 -7.374101e-13  \n",
       "2 -26.310669 -3.654854e-13  \n",
       "3  11.965185 -7.200907e-13  \n",
       "4  56.322310 -8.336110e-13  \n",
       "\n",
       "[5 rows x 203 columns]"
      ]
     },
     "execution_count": 14,
     "metadata": {},
     "output_type": "execute_result"
    }
   ],
   "source": [
    "data = pd.DataFrame(X_pca)\n",
    "data.head()"
   ]
  },
  {
   "cell_type": "code",
   "execution_count": 16,
   "metadata": {},
   "outputs": [
    {
     "data": {
      "text/plain": [
       "(203, 204)"
      ]
     },
     "execution_count": 16,
     "metadata": {},
     "output_type": "execute_result"
    }
   ],
   "source": [
    "data[\"labels\"] = df[\"label\"]\n",
    "data.shape\n"
   ]
  },
  {
   "cell_type": "code",
   "execution_count": 17,
   "metadata": {},
   "outputs": [],
   "source": [
    "X_train, X_test, y_train, y_test = train_test_split(data.drop(columns=\"labels\"),data[\"labels\"], test_size=0.15, random_state=42)"
   ]
  },
  {
   "cell_type": "code",
   "execution_count": 18,
   "metadata": {},
   "outputs": [
    {
     "name": "stdout",
     "output_type": "stream",
     "text": [
      "Fitting 5 folds for each of 60 candidates, totalling 300 fits\n"
     ]
    },
    {
     "data": {
      "text/html": [
       "<style>#sk-container-id-1 {color: black;background-color: white;}#sk-container-id-1 pre{padding: 0;}#sk-container-id-1 div.sk-toggleable {background-color: white;}#sk-container-id-1 label.sk-toggleable__label {cursor: pointer;display: block;width: 100%;margin-bottom: 0;padding: 0.3em;box-sizing: border-box;text-align: center;}#sk-container-id-1 label.sk-toggleable__label-arrow:before {content: \"▸\";float: left;margin-right: 0.25em;color: #696969;}#sk-container-id-1 label.sk-toggleable__label-arrow:hover:before {color: black;}#sk-container-id-1 div.sk-estimator:hover label.sk-toggleable__label-arrow:before {color: black;}#sk-container-id-1 div.sk-toggleable__content {max-height: 0;max-width: 0;overflow: hidden;text-align: left;background-color: #f0f8ff;}#sk-container-id-1 div.sk-toggleable__content pre {margin: 0.2em;color: black;border-radius: 0.25em;background-color: #f0f8ff;}#sk-container-id-1 input.sk-toggleable__control:checked~div.sk-toggleable__content {max-height: 200px;max-width: 100%;overflow: auto;}#sk-container-id-1 input.sk-toggleable__control:checked~label.sk-toggleable__label-arrow:before {content: \"▾\";}#sk-container-id-1 div.sk-estimator input.sk-toggleable__control:checked~label.sk-toggleable__label {background-color: #d4ebff;}#sk-container-id-1 div.sk-label input.sk-toggleable__control:checked~label.sk-toggleable__label {background-color: #d4ebff;}#sk-container-id-1 input.sk-hidden--visually {border: 0;clip: rect(1px 1px 1px 1px);clip: rect(1px, 1px, 1px, 1px);height: 1px;margin: -1px;overflow: hidden;padding: 0;position: absolute;width: 1px;}#sk-container-id-1 div.sk-estimator {font-family: monospace;background-color: #f0f8ff;border: 1px dotted black;border-radius: 0.25em;box-sizing: border-box;margin-bottom: 0.5em;}#sk-container-id-1 div.sk-estimator:hover {background-color: #d4ebff;}#sk-container-id-1 div.sk-parallel-item::after {content: \"\";width: 100%;border-bottom: 1px solid gray;flex-grow: 1;}#sk-container-id-1 div.sk-label:hover label.sk-toggleable__label {background-color: #d4ebff;}#sk-container-id-1 div.sk-serial::before {content: \"\";position: absolute;border-left: 1px solid gray;box-sizing: border-box;top: 0;bottom: 0;left: 50%;z-index: 0;}#sk-container-id-1 div.sk-serial {display: flex;flex-direction: column;align-items: center;background-color: white;padding-right: 0.2em;padding-left: 0.2em;position: relative;}#sk-container-id-1 div.sk-item {position: relative;z-index: 1;}#sk-container-id-1 div.sk-parallel {display: flex;align-items: stretch;justify-content: center;background-color: white;position: relative;}#sk-container-id-1 div.sk-item::before, #sk-container-id-1 div.sk-parallel-item::before {content: \"\";position: absolute;border-left: 1px solid gray;box-sizing: border-box;top: 0;bottom: 0;left: 50%;z-index: -1;}#sk-container-id-1 div.sk-parallel-item {display: flex;flex-direction: column;z-index: 1;position: relative;background-color: white;}#sk-container-id-1 div.sk-parallel-item:first-child::after {align-self: flex-end;width: 50%;}#sk-container-id-1 div.sk-parallel-item:last-child::after {align-self: flex-start;width: 50%;}#sk-container-id-1 div.sk-parallel-item:only-child::after {width: 0;}#sk-container-id-1 div.sk-dashed-wrapped {border: 1px dashed gray;margin: 0 0.4em 0.5em 0.4em;box-sizing: border-box;padding-bottom: 0.4em;background-color: white;}#sk-container-id-1 div.sk-label label {font-family: monospace;font-weight: bold;display: inline-block;line-height: 1.2em;}#sk-container-id-1 div.sk-label-container {text-align: center;}#sk-container-id-1 div.sk-container {/* jupyter's `normalize.less` sets `[hidden] { display: none; }` but bootstrap.min.css set `[hidden] { display: none !important; }` so we also need the `!important` here to be able to override the default hidden behavior on the sphinx rendered scikit-learn.org. See: https://github.com/scikit-learn/scikit-learn/issues/21755 */display: inline-block !important;position: relative;}#sk-container-id-1 div.sk-text-repr-fallback {display: none;}</style><div id=\"sk-container-id-1\" class=\"sk-top-container\"><div class=\"sk-text-repr-fallback\"><pre>GridSearchCV(cv=5, estimator=SVC(), n_jobs=-1,\n",
       "             param_grid={&#x27;C&#x27;: [0.01, 0.1, 0.5, 5, 10],\n",
       "                         &#x27;gamma&#x27;: [1, 0.1, 0.01, 0.001],\n",
       "                         &#x27;kernel&#x27;: [&#x27;linear&#x27;, &#x27;poly&#x27;, &#x27;rbf&#x27;]},\n",
       "             verbose=1)</pre><b>In a Jupyter environment, please rerun this cell to show the HTML representation or trust the notebook. <br />On GitHub, the HTML representation is unable to render, please try loading this page with nbviewer.org.</b></div><div class=\"sk-container\" hidden><div class=\"sk-item sk-dashed-wrapped\"><div class=\"sk-label-container\"><div class=\"sk-label sk-toggleable\"><input class=\"sk-toggleable__control sk-hidden--visually\" id=\"sk-estimator-id-1\" type=\"checkbox\" ><label for=\"sk-estimator-id-1\" class=\"sk-toggleable__label sk-toggleable__label-arrow\">GridSearchCV</label><div class=\"sk-toggleable__content\"><pre>GridSearchCV(cv=5, estimator=SVC(), n_jobs=-1,\n",
       "             param_grid={&#x27;C&#x27;: [0.01, 0.1, 0.5, 5, 10],\n",
       "                         &#x27;gamma&#x27;: [1, 0.1, 0.01, 0.001],\n",
       "                         &#x27;kernel&#x27;: [&#x27;linear&#x27;, &#x27;poly&#x27;, &#x27;rbf&#x27;]},\n",
       "             verbose=1)</pre></div></div></div><div class=\"sk-parallel\"><div class=\"sk-parallel-item\"><div class=\"sk-item\"><div class=\"sk-label-container\"><div class=\"sk-label sk-toggleable\"><input class=\"sk-toggleable__control sk-hidden--visually\" id=\"sk-estimator-id-2\" type=\"checkbox\" ><label for=\"sk-estimator-id-2\" class=\"sk-toggleable__label sk-toggleable__label-arrow\">estimator: SVC</label><div class=\"sk-toggleable__content\"><pre>SVC()</pre></div></div></div><div class=\"sk-serial\"><div class=\"sk-item\"><div class=\"sk-estimator sk-toggleable\"><input class=\"sk-toggleable__control sk-hidden--visually\" id=\"sk-estimator-id-3\" type=\"checkbox\" ><label for=\"sk-estimator-id-3\" class=\"sk-toggleable__label sk-toggleable__label-arrow\">SVC</label><div class=\"sk-toggleable__content\"><pre>SVC()</pre></div></div></div></div></div></div></div></div></div></div>"
      ],
      "text/plain": [
       "GridSearchCV(cv=5, estimator=SVC(), n_jobs=-1,\n",
       "             param_grid={'C': [0.01, 0.1, 0.5, 5, 10],\n",
       "                         'gamma': [1, 0.1, 0.01, 0.001],\n",
       "                         'kernel': ['linear', 'poly', 'rbf']},\n",
       "             verbose=1)"
      ]
     },
     "execution_count": 18,
     "metadata": {},
     "output_type": "execute_result"
    }
   ],
   "source": [
    "params = {\n",
    "    \"kernel\" : [\"linear\",\"poly\",\"rbf\"],\n",
    "    'C':[0.01, 0.1, 0.5, 5, 10],\n",
    "    'gamma': [1,0.1,0.01,0.001]\n",
    "}\n",
    "model = GridSearchCV(estimator=SVC(), param_grid=params, n_jobs=-1, cv=5, verbose=1)\n",
    "model.fit(X_train, y_train)"
   ]
  },
  {
   "cell_type": "code",
   "execution_count": 19,
   "metadata": {},
   "outputs": [
    {
     "data": {
      "text/plain": [
       "{'C': 0.01, 'gamma': 1, 'kernel': 'linear'}"
      ]
     },
     "execution_count": 19,
     "metadata": {},
     "output_type": "execute_result"
    }
   ],
   "source": [
    "model.best_params_"
   ]
  },
  {
   "cell_type": "code",
   "execution_count": 20,
   "metadata": {},
   "outputs": [
    {
     "data": {
      "text/html": [
       "<style>#sk-container-id-2 {color: black;background-color: white;}#sk-container-id-2 pre{padding: 0;}#sk-container-id-2 div.sk-toggleable {background-color: white;}#sk-container-id-2 label.sk-toggleable__label {cursor: pointer;display: block;width: 100%;margin-bottom: 0;padding: 0.3em;box-sizing: border-box;text-align: center;}#sk-container-id-2 label.sk-toggleable__label-arrow:before {content: \"▸\";float: left;margin-right: 0.25em;color: #696969;}#sk-container-id-2 label.sk-toggleable__label-arrow:hover:before {color: black;}#sk-container-id-2 div.sk-estimator:hover label.sk-toggleable__label-arrow:before {color: black;}#sk-container-id-2 div.sk-toggleable__content {max-height: 0;max-width: 0;overflow: hidden;text-align: left;background-color: #f0f8ff;}#sk-container-id-2 div.sk-toggleable__content pre {margin: 0.2em;color: black;border-radius: 0.25em;background-color: #f0f8ff;}#sk-container-id-2 input.sk-toggleable__control:checked~div.sk-toggleable__content {max-height: 200px;max-width: 100%;overflow: auto;}#sk-container-id-2 input.sk-toggleable__control:checked~label.sk-toggleable__label-arrow:before {content: \"▾\";}#sk-container-id-2 div.sk-estimator input.sk-toggleable__control:checked~label.sk-toggleable__label {background-color: #d4ebff;}#sk-container-id-2 div.sk-label input.sk-toggleable__control:checked~label.sk-toggleable__label {background-color: #d4ebff;}#sk-container-id-2 input.sk-hidden--visually {border: 0;clip: rect(1px 1px 1px 1px);clip: rect(1px, 1px, 1px, 1px);height: 1px;margin: -1px;overflow: hidden;padding: 0;position: absolute;width: 1px;}#sk-container-id-2 div.sk-estimator {font-family: monospace;background-color: #f0f8ff;border: 1px dotted black;border-radius: 0.25em;box-sizing: border-box;margin-bottom: 0.5em;}#sk-container-id-2 div.sk-estimator:hover {background-color: #d4ebff;}#sk-container-id-2 div.sk-parallel-item::after {content: \"\";width: 100%;border-bottom: 1px solid gray;flex-grow: 1;}#sk-container-id-2 div.sk-label:hover label.sk-toggleable__label {background-color: #d4ebff;}#sk-container-id-2 div.sk-serial::before {content: \"\";position: absolute;border-left: 1px solid gray;box-sizing: border-box;top: 0;bottom: 0;left: 50%;z-index: 0;}#sk-container-id-2 div.sk-serial {display: flex;flex-direction: column;align-items: center;background-color: white;padding-right: 0.2em;padding-left: 0.2em;position: relative;}#sk-container-id-2 div.sk-item {position: relative;z-index: 1;}#sk-container-id-2 div.sk-parallel {display: flex;align-items: stretch;justify-content: center;background-color: white;position: relative;}#sk-container-id-2 div.sk-item::before, #sk-container-id-2 div.sk-parallel-item::before {content: \"\";position: absolute;border-left: 1px solid gray;box-sizing: border-box;top: 0;bottom: 0;left: 50%;z-index: -1;}#sk-container-id-2 div.sk-parallel-item {display: flex;flex-direction: column;z-index: 1;position: relative;background-color: white;}#sk-container-id-2 div.sk-parallel-item:first-child::after {align-self: flex-end;width: 50%;}#sk-container-id-2 div.sk-parallel-item:last-child::after {align-self: flex-start;width: 50%;}#sk-container-id-2 div.sk-parallel-item:only-child::after {width: 0;}#sk-container-id-2 div.sk-dashed-wrapped {border: 1px dashed gray;margin: 0 0.4em 0.5em 0.4em;box-sizing: border-box;padding-bottom: 0.4em;background-color: white;}#sk-container-id-2 div.sk-label label {font-family: monospace;font-weight: bold;display: inline-block;line-height: 1.2em;}#sk-container-id-2 div.sk-label-container {text-align: center;}#sk-container-id-2 div.sk-container {/* jupyter's `normalize.less` sets `[hidden] { display: none; }` but bootstrap.min.css set `[hidden] { display: none !important; }` so we also need the `!important` here to be able to override the default hidden behavior on the sphinx rendered scikit-learn.org. See: https://github.com/scikit-learn/scikit-learn/issues/21755 */display: inline-block !important;position: relative;}#sk-container-id-2 div.sk-text-repr-fallback {display: none;}</style><div id=\"sk-container-id-2\" class=\"sk-top-container\"><div class=\"sk-text-repr-fallback\"><pre>SVC(C=0.01, gamma=1, kernel=&#x27;linear&#x27;, random_state=42)</pre><b>In a Jupyter environment, please rerun this cell to show the HTML representation or trust the notebook. <br />On GitHub, the HTML representation is unable to render, please try loading this page with nbviewer.org.</b></div><div class=\"sk-container\" hidden><div class=\"sk-item\"><div class=\"sk-estimator sk-toggleable\"><input class=\"sk-toggleable__control sk-hidden--visually\" id=\"sk-estimator-id-4\" type=\"checkbox\" checked><label for=\"sk-estimator-id-4\" class=\"sk-toggleable__label sk-toggleable__label-arrow\">SVC</label><div class=\"sk-toggleable__content\"><pre>SVC(C=0.01, gamma=1, kernel=&#x27;linear&#x27;, random_state=42)</pre></div></div></div></div></div>"
      ],
      "text/plain": [
       "SVC(C=0.01, gamma=1, kernel='linear', random_state=42)"
      ]
     },
     "execution_count": 20,
     "metadata": {},
     "output_type": "execute_result"
    }
   ],
   "source": [
    "final_model = SVC(C=0.01, gamma=1, kernel=\"linear\", random_state=42)\n",
    "final_model.fit(X_train,y_train)"
   ]
  },
  {
   "cell_type": "code",
   "execution_count": 45,
   "metadata": {},
   "outputs": [],
   "source": [
    "import numpy as np\n",
    "import matplotlib.pyplot as plt\n",
    "\n",
    "def draw_roc_curve(y_true, y_scores):\n",
    "    # Sort instances based on scores in descending order\n",
    "    sorted_indices = np.argsort(y_scores)[::-1]\n",
    "    y_true_sorted = y_true[sorted_indices]\n",
    "    y_scores_sorted = y_scores[sorted_indices]\n",
    "\n",
    "    total_positives = np.sum(y_true)\n",
    "    total_negatives = len(y_true) - int(total_positives)\n",
    "\n",
    "    tpr_values = []  # True Positive Rate\n",
    "    fpr_values = []  # False Positive Rate\n",
    "\n",
    "    # Calculate TPR and FPR for different classification thresholds\n",
    "    tp_count = 0\n",
    "    fp_count = 0\n",
    "\n",
    "    for i in range(len(y_scores_sorted)):\n",
    "        if y_true_sorted[i].any() == 1:\n",
    "            tp_count += 1\n",
    "        else:\n",
    "            fp_count += 1\n",
    "\n",
    "        tpr = tp_count / total_positives\n",
    "        fpr = fp_count / total_negatives\n",
    "\n",
    "        tpr_values.append(tpr)\n",
    "        fpr_values.append(fpr)\n",
    "\n",
    "    # Plot the ROC curve\n",
    "    plt.plot(fpr_values, tpr_values, label='ROC Curve')\n",
    "    plt.plot([0, 1], [0, 1], 'k--', label='Random Classifier')\n",
    "    plt.xlabel('False Positive Rate')\n",
    "    plt.ylabel('True Positive Rate')\n",
    "    plt.title('Receiver Operating Characteristic (ROC) Curve')\n",
    "    plt.legend()\n",
    "    plt.show()\n"
   ]
  },
  {
   "cell_type": "code",
   "execution_count": 48,
   "metadata": {},
   "outputs": [
    {
     "name": "stdout",
     "output_type": "stream",
     "text": [
      "31 31\n"
     ]
    }
   ],
   "source": [
    "y_pred = final_model.predict(X_test)\n",
    "y_scores = final_model.decision_function(X_test)\n",
    "\n",
    "y_true = np.array(y_test)\n",
    "y_scores = np.array(y_scores)\n",
    "\n",
    "print(len(y_true), len(y_scores))\n"
   ]
  },
  {
   "cell_type": "code",
   "execution_count": 46,
   "metadata": {},
   "outputs": [
    {
     "data": {
      "image/png": "[encoded data removed]",
      "text/plain": [
       "<Figure size 640x480 with 1 Axes>"
      ]
     },
     "metadata": {},
     "output_type": "display_data"
    }
   ],
   "source": [
    "from sklearn.preprocessing import LabelEncoder\n",
    "\n",
    "label_encoder = LabelEncoder()\n",
    "y_true_binary = label_encoder.fit_transform(y_true)\n",
    "\n",
    "draw_roc_curve(y_true_binary, y_scores)\n",
    "# print((y_true_binary), (y_true))"
   ]
  },
  {
   "cell_type": "code",
   "execution_count": null,
   "metadata": {},
   "outputs": [],
   "source": [
    "from sklearn.metrics import classification_report"
   ]
  },
  {
   "cell_type": "code",
   "execution_count": null,
   "metadata": {},
   "outputs": [
    {
     "name": "stdout",
     "output_type": "stream",
     "text": [
      "              precision    recall  f1-score   support\n",
      "\n",
      "        alaa       1.00      1.00      1.00         4\n",
      "     aya amr       1.00      1.00      1.00         7\n",
      "   aya sameh       1.00      1.00      1.00         6\n",
      "        ehab       1.00      1.00      1.00         4\n",
      "      salman       1.00      1.00      1.00        10\n",
      "\n",
      "    accuracy                           1.00        31\n",
      "   macro avg       1.00      1.00      1.00        31\n",
      "weighted avg       1.00      1.00      1.00        31\n",
      "\n"
     ]
    }
   ],
   "source": [
    "cr = classification_report(y_test, final_model.predict(X_test))\n",
    "print(cr)"
   ]
  },
  {
   "cell_type": "code",
   "execution_count": null,
   "metadata": {},
   "outputs": [],
   "source": [
    "def predictor(image_path, mean_face, eigvecs):\n",
    "    gray_img = cv2.imread(image_path,0)\n",
    "    face = face_detection(gray_img)\n",
    "    pixel_values = []\n",
    "    \n",
    "    for (x, y, w, h) in face:\n",
    "        face_img = gray_img[y:y+h, x:x+w]\n",
    "        face_img = cv2.resize(face_img, (100,100))\n",
    "        gray_pixels = face_img.flatten().tolist()\n",
    "        \n",
    "    pixel_values.append(gray_pixels)\n",
    "    \n",
    "    pixel_values = pd.DataFrame(pixel_values)\n",
    "    \n",
    "    X = np.array(pixel_values).reshape(len((pixel_values)), -1).astype(np.float64)\n",
    "    \n",
    "    X = X-mean_face\n",
    "    X_pca = np.dot(X,eigvecs.T)\n",
    "    \n",
    "    pred = final_model.predict(X_pca)\n",
    "    \n",
    "    print(pred)\n"
   ]
  },
  {
   "cell_type": "code",
   "execution_count": null,
   "metadata": {},
   "outputs": [
    {
     "name": "stdout",
     "output_type": "stream",
     "text": [
      "['aya sameh']\n"
     ]
    }
   ],
   "source": [
    "predictor(\"test/IMG-20230515-WA0048.jpg\", mean_face, eigvecs)"
   ]
  },
  {
   "cell_type": "code",
   "execution_count": null,
   "metadata": {},
   "outputs": [
    {
     "name": "stdout",
     "output_type": "stream",
     "text": [
      "[[196 236 262 262]]\n"
     ]
    },
    {
     "data": {
      "image/png": "[encoded data removed]",
      "text/plain": [
       "<Figure size 432x288 with 1 Axes>"
      ]
     },
     "metadata": {
      "needs_background": "light"
     },
     "output_type": "display_data"
    }
   ],
   "source": [
    "gray_img = cv2.imread(\"test/IMG-20230515-WA0048.jpg\",0)\n",
    "face = face_detection(gray_img)\n",
    "print(face)\n",
    "counter = 0\n",
    "for (x, y, w, h) in face:\n",
    "    face_img = gray_img[y:y+h, x:x+w]\n",
    "    face_img = cv2.resize(face_img, (100,100))\n",
    "    plt.imshow(face_img, cmap=\"gray\")\n",
    "    counter+=1\n",
    "    if counter == 2 :\n",
    "        break"
   ]
  },
  {
   "cell_type": "code",
   "execution_count": null,
   "metadata": {},
   "outputs": [],
   "source": [
    "import pickle\n",
    "with open('model.pkl', 'wb') as f:\n",
    "    pickle.dump(final_model, f)"
   ]
  },
  {
   "cell_type": "code",
   "execution_count": null,
   "metadata": {},
   "outputs": [],
   "source": []
  }
 ],
 "metadata": {
  "kernelspec": {
   "display_name": "base",
   "language": "python",
   "name": "python3"
  },
  "language_info": {
   "codemirror_mode": {
    "name": "ipython",
    "version": 3
   },
   "file_extension": ".py",
   "mimetype": "text/x-python",
   "name": "python",
   "nbconvert_exporter": "python",
   "pygments_lexer": "ipython3",
   "version": "3.10.3"
  },
  "orig_nbformat": 4
 },
 "nbformat": 4,
 "nbformat_minor": 2
}
